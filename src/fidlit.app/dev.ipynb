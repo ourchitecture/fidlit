{
 "cells": [
  {
   "attachments": {},
   "cell_type": "markdown",
   "metadata": {},
   "source": [
    "# Fidlit.app Development\n",
    "\n",
    "Welcome to Fidlit."
   ]
  },
  {
   "attachments": {},
   "cell_type": "markdown",
   "metadata": {},
   "source": [
    "## Prerequisites\n",
    "\n",
    "Install free and open source [Podman Desktop](https://podman-desktop.io/) or, if you prefer and own a paid license, [Docker Desktop](https://www.docker.com/products/docker-desktop/).\n",
    "\n",
    "Next, we will confirm which tool you have installed by asking you for input."
   ]
  },
  {
   "cell_type": "code",
   "execution_count": 57,
   "metadata": {},
   "outputs": [
    {
     "name": "stdout",
     "output_type": "stream",
     "text": [
      "podman version 4.3.1\n"
     ]
    }
   ],
   "source": [
    "user_container_tool=input(\"Which tool would you like to use (\\\"podman\\\" or \\\"docker\\\")? Enter an empty value and it will default to \\\"podman\\\".\")\n",
    "\n",
    "if user_container_tool == \"\":\n",
    "  user_container_tool = \"podman\"\n",
    "\n",
    "valid_container_tools={\"podman\", \"docker\"}\n",
    "\n",
    "if not user_container_tool in valid_container_tools:\n",
    "    raise ValueError(\"The value {} is not a valid container tool\".format(user_container_tool))\n",
    "\n",
    "!($user_container_tool --version)"
   ]
  },
  {
   "attachments": {},
   "cell_type": "markdown",
   "metadata": {},
   "source": [
    "## Reusable Functions\n",
    "\n",
    "Here, we'll define a function to run a container using the `podman` command-line to execute commands against the container.\n",
    "\n",
    "This will allow us to define immutable developer tasks that are consistent across developer machines."
   ]
  },
  {
   "cell_type": "code",
   "execution_count": 58,
   "metadata": {},
   "outputs": [],
   "source": [
    "import os\n",
    "\n",
    "def run_container_with_entrypoint_command_on_volume(tool, tag, name, entrypoint, command, volume, env_file_path):\n",
    "    \"\"\"\n",
    "    Run a container against a mounted volume using a specific entrypoint and command.\n",
    "    \"\"\"\n",
    "    # It is safe to ignore any red \"squiggles\" when using VS Code on the code immediately below.\n",
    "    !($tool run \\\n",
    "        --rm \\\n",
    "        --name=\"$name\" \\\n",
    "        --entrypoint=\"$entrypoint\" \\\n",
    "        --volume \"$volume\":/usr/src/app/ \\\n",
    "        --workdir /usr/src/app/ \\\n",
    "        --env IN_CONTAINER=1 \\\n",
    "        --env-file \"$env_file_path\" \\\n",
    "        \"$tag\" \\\n",
    "        \"$command\")\n",
    "\n",
    "def run_containerized_task(container_tag, container_entrypoint, task_name):\n",
    "    \"\"\"\n",
    "    Run a containerized task.\n",
    "    \"\"\"\n",
    "    # WARN: use of global variable \"user_container_tool\"\n",
    "    run_container_with_entrypoint_command_on_volume(\n",
    "      user_container_tool,\n",
    "      container_tag, \n",
    "      \"fidlit-app-\" + task_name,\n",
    "      container_entrypoint,\n",
    "      \"./\" + task_name + \".sh\",\n",
    "      os.getcwd(),\n",
    "      \"./.env\")\n",
    "\n",
    "def run_containerized_node_task(name):\n",
    "    \"\"\"\n",
    "    Run a task in a node container.\n",
    "    \"\"\"\n",
    "    run_containerized_task(\"localhost/fidlit/node:latest\", \"/bin/ash\", name)\n",
    "\n",
    "def run_containerized_chrome_task(name):\n",
    "    \"\"\"\n",
    "    Run a task in a chrome container.\n",
    "    \"\"\"\n",
    "    run_containerized_task(\"localhost/fidlit/node-chrome:latest\", \"/bin/ash\", name)\n",
    "\n",
    "def run_containerized_cypress_task(name):\n",
    "    \"\"\"\n",
    "    Run a task in a Cypress testing chrome container.\n",
    "    \"\"\"\n",
    "    run_containerized_task(\"localhost/fidlit/node-cypress-chrome:latest\", \"/bin/bash\", name)"
   ]
  },
  {
   "attachments": {},
   "cell_type": "markdown",
   "metadata": {},
   "source": [
    "## Initialize\n",
    "\n",
    "Next, we will initialize the project's dependencies."
   ]
  },
  {
   "cell_type": "code",
   "execution_count": 59,
   "metadata": {},
   "outputs": [
    {
     "name": "stdout",
     "output_type": "stream",
     "text": [
      "yarn install v1.22.19\n",
      "[1/4] Resolving packages...\n",
      "success Already up-to-date.\n",
      "Done in 0.64s.\n"
     ]
    }
   ],
   "source": [
    "run_containerized_node_task(\"init\")"
   ]
  },
  {
   "attachments": {},
   "cell_type": "markdown",
   "metadata": {},
   "source": [
    "## Check\n",
    "\n",
    "### Linting\n",
    "\n",
    "Linting checks the styles and formatting of our files and code."
   ]
  },
  {
   "cell_type": "code",
   "execution_count": 60,
   "metadata": {},
   "outputs": [
    {
     "name": "stdout",
     "output_type": "stream",
     "text": [
      "yarn run v1.22.19\n",
      "$ ng lint\n",
      "\n",
      "Linting \"app\"...\n",
      "\n",
      "All files pass linting.\n",
      "\n",
      "Done in 68.20s.\n"
     ]
    }
   ],
   "source": [
    "run_containerized_node_task(\"check-lint\")"
   ]
  },
  {
   "attachments": {},
   "cell_type": "markdown",
   "metadata": {},
   "source": [
    "### Unit Tests\n",
    "\n",
    "Next, we'll run our unit tests."
   ]
  },
  {
   "cell_type": "code",
   "execution_count": 61,
   "metadata": {},
   "outputs": [
    {
     "name": "stdout",
     "output_type": "stream",
     "text": [
      "yarn run v1.22.19\n",
      "$ ng test\n",
      "05 02 2023 06:53:15.119:INFO [karma-server]: Karma v6.4.1 server started at http://localhost:9876/\n",
      "05 02 2023 06:53:15.122:INFO [launcher]: Launching browsers ChromeHeadless with concurrency unlimited\n",
      "05 02 2023 06:53:15.164:INFO [launcher]: Starting browser ChromeHeadless\n",
      "05 02 2023 06:53:15.529:INFO [Chrome Headless 109.0.5414.119 (Linux x86_64)]: Connected on socket nsETC1l6WTQmNa0AAAAB with id 32123452\n",
      "Chrome Headless 109.0.5414.119 (Linux x86_64): Executed 0 of 3\u001b[32m SUCCESS\u001b[39m (0 secs / 0 secs)\n",
      "\u001b[1A\u001b[2KChrome Headless 109.0.5414.119 (Linux x86_64): Executed 1 of 3\u001b[32m SUCCESS\u001b[39m (0 secs / 0.045 secs)\n",
      "\u001b[1A\u001b[2KChrome Headless 109.0.5414.119 (Linux x86_64): Executed 2 of 3\u001b[32m SUCCESS\u001b[39m (0 secs / 0.109 secs)\n",
      "\u001b[1A\u001b[2KChrome Headless 109.0.5414.119 (Linux x86_64): Executed 3 of 3\u001b[32m SUCCESS\u001b[39m (0 secs / 0.111 secs)\n",
      "\u001b[1A\u001b[2KChrome Headless 109.0.5414.119 (Linux x86_64): Executed 3 of 3\u001b[32m SUCCESS\u001b[39m (0.136 secs / 0.111 secs)\n",
      "\u001b[32mTOTAL: 3 SUCCESS\u001b[39m\n",
      "Done in 92.95s.\n"
     ]
    },
    {
     "name": "stderr",
     "output_type": "stream",
     "text": [
      "- Generating browser application bundles (phase: setup)...\n",
      "    TypeScript compiler options \"target\" and \"useDefineForClassFields\" are set to \"ES2022\" and \"false\" respectively by the Angular CLI. To control ECMA version and features use the Browerslist configuration. For more information, see https://angular.io/guide/build#configuring-browser-compatibility\n",
      "✔ Browser application bundle generation complete.\n",
      "✔ Browser application bundle generation complete.\n",
      "✔ Browser application bundle generation complete.\n"
     ]
    }
   ],
   "source": [
    "run_containerized_chrome_task(\"check-unit\")"
   ]
  },
  {
   "attachments": {},
   "cell_type": "markdown",
   "metadata": {},
   "source": [
    "### End-to-end Tests\n",
    "\n",
    "Now, we'll run our end-to-end (e2e) tests."
   ]
  },
  {
   "cell_type": "code",
   "execution_count": 62,
   "metadata": {},
   "outputs": [
    {
     "name": "stdout",
     "output_type": "stream",
     "text": [
      "yarn run v1.22.19\n",
      "$ ng e2e\n",
      "Passing watch mode to DevServer - watch mode is false\n",
      "\n",
      "Initial Chunk Files                                                                                     | Names                     |  Raw Size\n",
      "vendor.js                                                                                               | vendor                    |   3.29 MB |\n",
      "styles.css, styles.js                                                                                   | styles                    | 360.66 kB |\n",
      "polyfills.js                                                                                            | polyfills                 | 317.02 kB |\n",
      "main.js                                                                                                 | main                      |  22.21 kB |\n",
      "runtime.js                                                                                              | runtime                   |  14.43 kB |\n",
      "\n",
      "| Initial Total             |   3.99 MB\n",
      "\n",
      "Lazy Chunk Files                                                                                        | Names                     |  Raw Size\n",
      "src_app_home_home_module_ts.js                                                                          | home-home-module          |   1.26 MB |\n",
      "node_modules_ionic_core_dist_esm_swiper_bundle-28080340_js.js                                           | swiper-bundle-28080340-js | 198.67 kB |\n",
      "polyfills-core-js.js                                                                                    | polyfills-core-js         | 152.18 kB |\n",
      "node_modules_ionic_core_dist_esm_ion-datetime_3_entry_js.js                                             | -                         | 135.30 kB |\n",
      "node_modules_ionic_core_dist_esm_ion-item_8_entry_js.js                                                 | -                         |  99.72 kB |\n",
      "node_modules_ionic_core_dist_esm_ion-modal_entry_js.js                                                  | -                         |  84.29 kB |\n",
      "node_modules_ionic_core_dist_esm_ion-app_8_entry_js.js                                                  | -                         |  82.82 kB |\n",
      "node_modules_ionic_core_dist_esm_ion-popover_entry_js.js                                                | -                         |  64.85 kB |\n",
      "node_modules_ionic_core_dist_esm_ion-slide_2_entry_js.js                                                | -                         |  59.62 kB |\n",
      "default-node_modules_ionic_core_dist_esm_data-cb72448c_js-node_modules_ionic_core_dist_esm_th-29e28e.js | -                         |  55.67 kB |\n",
      "node_modules_ionic_core_dist_esm_ion-refresher_2_entry_js.js                                            | -                         |  53.76 kB |\n",
      "node_modules_ionic_core_dist_esm_ion-alert_entry_js.js                                                  | -                         |  51.61 kB |\n",
      "common.js                                                                                               | common                    |  44.69 kB |\n",
      "node_modules_ionic_core_dist_esm_ion-segment_2_entry_js.js                                              | -                         |  43.90 kB |\n",
      "node_modules_ionic_core_dist_esm_ion-menu_3_entry_js.js                                                 | -                         |  41.18 kB |\n",
      "node_modules_ionic_core_dist_esm_ion-button_2_entry_js.js                                               | -                         |  40.46 kB |\n",
      "node_modules_ionic_core_dist_esm_ion-item-option_3_entry_js.js                                          | -                         |  38.29 kB |\n",
      "node_modules_ionic_core_dist_esm_ion-range_entry_js.js                                                  | -                         |  37.55 kB |\n",
      "node_modules_ionic_core_dist_esm_ion-searchbar_entry_js.js                                              | -                         |  36.61 kB |\n",
      "node_modules_ionic_core_dist_esm_ion-nav_2_entry_js.js                                                  | -                         |  35.51 kB |\n",
      "node_modules_ionic_core_dist_esm_ion-route_4_entry_js.js                                                | -                         |  34.79 kB |\n",
      "node_modules_ionic_core_dist_esm_ion-select_3_entry_js.js                                               | -                         |  34.61 kB |\n",
      "node_modules_ionic_core_dist_esm_ion-action-sheet_entry_js.js                                           | -                         |  33.00 kB |\n",
      "node_modules_ionic_core_dist_esm_ion-fab_3_entry_js.js                                                  | -                         |  30.05 kB |\n",
      "node_modules_ionic_core_dist_esm_ion-accordion_2_entry_js.js                                            | -                         |  26.89 kB |\n",
      "polyfills-dom.js                                                                                        | polyfills-dom             |  26.61 kB |\n",
      "node_modules_ionic_core_dist_esm_ion-tab-bar_2_entry_js.js                                              | -                         |  26.59 kB |\n",
      "node_modules_ionic_core_dist_esm_ion-toast_entry_js.js                                                  | -                         |  25.99 kB |\n",
      "node_modules_ionic_core_dist_esm_ion-input_entry_js.js                                                  | -                         |  25.58 kB |\n",
      "node_modules_ionic_core_dist_esm_ion-breadcrumb_2_entry_js.js                                           | -                         |  25.29 kB |\n",
      "node_modules_ionic_core_dist_esm_ion-progress-bar_entry_js.js                                           | -                         |  24.49 kB |\n",
      "node_modules_ionic_core_dist_esm_ion-picker-internal_entry_js.js                                        | -                         |  23.17 kB |\n",
      "node_modules_ionic_core_dist_esm_ion-textarea_entry_js.js                                               | -                         |  22.75 kB |\n",
      "node_modules_ionic_core_dist_esm_ion-toggle_entry_js.js                                                 | -                         |  22.65 kB |\n",
      "node_modules_ionic_core_dist_esm_ion-picker-column-internal_entry_js.js                                 | -                         |  20.19 kB |\n",
      "node_modules_ionic_core_dist_esm_ion-radio_2_entry_js.js                                                | -                         |  19.60 kB |\n",
      "node_modules_ionic_core_dist_esm_ion-back-button_entry_js.js                                            | -                         |  19.54 kB |\n",
      "node_modules_ionic_core_dist_esm_ion-virtual-scroll_entry_js.js                                         | -                         |  19.26 kB |\n",
      "node_modules_ionic_core_dist_esm_ion-datetime-button_entry_js.js                                        | -                         |  19.08 kB |\n",
      "node_modules_ionic_core_dist_esm_input-shims-f2e11980_js.js                                             | input-shims-f2e11980-js   |  18.47 kB |\n",
      "node_modules_ionic_core_dist_esm_ion-card_5_entry_js.js                                                 | -                         |  18.44 kB |\n",
      "node_modules_ionic_core_dist_esm_ion-loading_entry_js.js                                                | -                         |  17.96 kB |\n",
      "node_modules_ionic_core_dist_esm_ion-infinite-scroll_2_entry_js.js                                      | -                         |  15.89 kB |\n",
      "node_modules_ionic_core_dist_esm_ion-col_3_entry_js.js                                                  | -                         |  15.73 kB |\n",
      "node_modules_ionic_core_dist_esm_ion-reorder_2_entry_js.js                                              | -                         |  15.25 kB |\n",
      "node_modules_ionic_core_dist_esm_ion-checkbox_entry_js.js                                               | -                         |  14.04 kB |\n",
      "node_modules_ionic_core_dist_esm_ion-spinner_entry_js.js                                                | -                         |  10.64 kB |\n",
      "node_modules_ionic_core_dist_esm_ion-split-pane_entry_js.js                                             | -                         |  10.07 kB |\n",
      "node_modules_ionic_core_dist_esm_ion-tab_2_entry_js.js                                                  | -                         |   9.50 kB |\n",
      "node_modules_ionic_core_dist_esm_ion-chip_entry_js.js                                                   | -                         |   8.42 kB |\n",
      "node_modules_ionic_core_dist_esm_ion-avatar_3_entry_js.js                                               | -                         |   8.17 kB |\n",
      "node_modules_ionic_core_dist_esm_ion-ripple-effect_entry_js.js                                          | -                         |   6.59 kB |\n",
      "node_modules_ionic_core_dist_esm_index-2dbe065f_js.js                                                   | index-2dbe065f-js         |   6.28 kB |\n",
      "node_modules_ionic_core_dist_esm_ion-img_entry_js.js                                                    | -                         |   4.52 kB |\n",
      "node_modules_ionic_core_dist_esm_ion-text_entry_js.js                                                   | -                         |   4.10 kB |\n",
      "node_modules_ionic_core_dist_esm_ion-backdrop_entry_js.js                                               | -                         |   3.48 kB |\n",
      "node_modules_ionic_core_dist_esm_status-tap-4d4674a1_js.js                                              | status-tap-4d4674a1-js    |   2.85 kB |\n",
      "\n",
      "Build at: 2023-02-05T06:56:31.451Z - Hash: 44f1995cadf4075d - Time: 93549ms\n",
      "\n",
      "** Angular Live Development Server is listening on localhost:4200, open your browser on http://localhost:4200/ **\n",
      "\n",
      "\n",
      "✔ Compiled successfully.\n",
      "[STARTED] Task without title.\n",
      "[SUCCESS] Task without title.\n",
      "\n",
      "\u001b[90m====================================================================================================\u001b[39m\n",
      "\n",
      "\u001b[0m  (\u001b[4m\u001b[1mRun Starting\u001b[22m\u001b[24m)\u001b[0m\n",
      "\n",
      "\u001b[90m  ┌\u001b[39m\u001b[90m─\u001b[39m\u001b[90m─\u001b[39m\u001b[90m─\u001b[39m\u001b[90m─\u001b[39m\u001b[90m─\u001b[39m\u001b[90m─\u001b[39m\u001b[90m─\u001b[39m\u001b[90m─\u001b[39m\u001b[90m─\u001b[39m\u001b[90m─\u001b[39m\u001b[90m─\u001b[39m\u001b[90m─\u001b[39m\u001b[90m─\u001b[39m\u001b[90m─\u001b[39m\u001b[90m─\u001b[39m\u001b[90m─\u001b[39m\u001b[90m─\u001b[39m\u001b[90m─\u001b[39m\u001b[90m─\u001b[39m\u001b[90m─\u001b[39m\u001b[90m─\u001b[39m\u001b[90m─\u001b[39m\u001b[90m─\u001b[39m\u001b[90m─\u001b[39m\u001b[90m─\u001b[39m\u001b[90m─\u001b[39m\u001b[90m─\u001b[39m\u001b[90m─\u001b[39m\u001b[90m─\u001b[39m\u001b[90m─\u001b[39m\u001b[90m─\u001b[39m\u001b[90m─\u001b[39m\u001b[90m─\u001b[39m\u001b[90m─\u001b[39m\u001b[90m─\u001b[39m\u001b[90m─\u001b[39m\u001b[90m─\u001b[39m\u001b[90m─\u001b[39m\u001b[90m─\u001b[39m\u001b[90m─\u001b[39m\u001b[90m─\u001b[39m\u001b[90m─\u001b[39m\u001b[90m─\u001b[39m\u001b[90m─\u001b[39m\u001b[90m─\u001b[39m\u001b[90m─\u001b[39m\u001b[90m─\u001b[39m\u001b[90m─\u001b[39m\u001b[90m─\u001b[39m\u001b[90m─\u001b[39m\u001b[90m─\u001b[39m\u001b[90m─\u001b[39m\u001b[90m─\u001b[39m\u001b[90m─\u001b[39m\u001b[90m─\u001b[39m\u001b[90m─\u001b[39m\u001b[90m─\u001b[39m\u001b[90m─\u001b[39m\u001b[90m─\u001b[39m\u001b[90m─\u001b[39m\u001b[90m─\u001b[39m\u001b[90m─\u001b[39m\u001b[90m─\u001b[39m\u001b[90m─\u001b[39m\u001b[90m─\u001b[39m\u001b[90m─\u001b[39m\u001b[90m─\u001b[39m\u001b[90m─\u001b[39m\u001b[90m─\u001b[39m\u001b[90m─\u001b[39m\u001b[90m─\u001b[39m\u001b[90m─\u001b[39m\u001b[90m─\u001b[39m\u001b[90m─\u001b[39m\u001b[90m─\u001b[39m\u001b[90m─\u001b[39m\u001b[90m─\u001b[39m\u001b[90m─\u001b[39m\u001b[90m─\u001b[39m\u001b[90m─\u001b[39m\u001b[90m─\u001b[39m\u001b[90m─\u001b[39m\u001b[90m─\u001b[39m\u001b[90m─\u001b[39m\u001b[90m─\u001b[39m\u001b[90m─\u001b[39m\u001b[90m─\u001b[39m\u001b[90m─\u001b[39m\u001b[90m─\u001b[39m\u001b[90m─\u001b[39m\u001b[90m─\u001b[39m\u001b[90m─\u001b[39m\u001b[90m─\u001b[39m\u001b[90m─\u001b[39m\u001b[90m─\u001b[39m\u001b[90m─\u001b[39m\u001b[90m┐\u001b[39m\n",
      "\u001b[90m  │\u001b[39m \u001b[90mCypress:\u001b[39m        12.5.1                                                                         \u001b[90m│\u001b[39m\n",
      "\u001b[90m  │\u001b[39m \u001b[90mBrowser:\u001b[39m        Electron 106 \u001b[90m(headless)\u001b[39m                                                        \u001b[90m│\u001b[39m\n",
      "\u001b[90m  │\u001b[39m \u001b[90mNode Version:\u001b[39m   \u001b[0mv16.18.1 \u001b[90m(/usr/local/bin/node)\u001b[39m\u001b[0m                                                 \u001b[90m│\u001b[39m\n",
      "\u001b[90m  │\u001b[39m \u001b[90mSpecs:\u001b[39m          \u001b[0m1 found (spec.cy.ts)\u001b[0m                                                           \u001b[90m│\u001b[39m\n",
      "\u001b[90m  │\u001b[39m \u001b[90mSearched:\u001b[39m       \u001b[0mcypress/e2e/**/*.cy.{js,jsx,ts,tsx}\u001b[0m                                            \u001b[90m│\u001b[39m\n",
      "\u001b[90m  └\u001b[39m\u001b[90m─\u001b[39m\u001b[90m─\u001b[39m\u001b[90m─\u001b[39m\u001b[90m─\u001b[39m\u001b[90m─\u001b[39m\u001b[90m─\u001b[39m\u001b[90m─\u001b[39m\u001b[90m─\u001b[39m\u001b[90m─\u001b[39m\u001b[90m─\u001b[39m\u001b[90m─\u001b[39m\u001b[90m─\u001b[39m\u001b[90m─\u001b[39m\u001b[90m─\u001b[39m\u001b[90m─\u001b[39m\u001b[90m─\u001b[39m\u001b[90m─\u001b[39m\u001b[90m─\u001b[39m\u001b[90m─\u001b[39m\u001b[90m─\u001b[39m\u001b[90m─\u001b[39m\u001b[90m─\u001b[39m\u001b[90m─\u001b[39m\u001b[90m─\u001b[39m\u001b[90m─\u001b[39m\u001b[90m─\u001b[39m\u001b[90m─\u001b[39m\u001b[90m─\u001b[39m\u001b[90m─\u001b[39m\u001b[90m─\u001b[39m\u001b[90m─\u001b[39m\u001b[90m─\u001b[39m\u001b[90m─\u001b[39m\u001b[90m─\u001b[39m\u001b[90m─\u001b[39m\u001b[90m─\u001b[39m\u001b[90m─\u001b[39m\u001b[90m─\u001b[39m\u001b[90m─\u001b[39m\u001b[90m─\u001b[39m\u001b[90m─\u001b[39m\u001b[90m─\u001b[39m\u001b[90m─\u001b[39m\u001b[90m─\u001b[39m\u001b[90m─\u001b[39m\u001b[90m─\u001b[39m\u001b[90m─\u001b[39m\u001b[90m─\u001b[39m\u001b[90m─\u001b[39m\u001b[90m─\u001b[39m\u001b[90m─\u001b[39m\u001b[90m─\u001b[39m\u001b[90m─\u001b[39m\u001b[90m─\u001b[39m\u001b[90m─\u001b[39m\u001b[90m─\u001b[39m\u001b[90m─\u001b[39m\u001b[90m─\u001b[39m\u001b[90m─\u001b[39m\u001b[90m─\u001b[39m\u001b[90m─\u001b[39m\u001b[90m─\u001b[39m\u001b[90m─\u001b[39m\u001b[90m─\u001b[39m\u001b[90m─\u001b[39m\u001b[90m─\u001b[39m\u001b[90m─\u001b[39m\u001b[90m─\u001b[39m\u001b[90m─\u001b[39m\u001b[90m─\u001b[39m\u001b[90m─\u001b[39m\u001b[90m─\u001b[39m\u001b[90m─\u001b[39m\u001b[90m─\u001b[39m\u001b[90m─\u001b[39m\u001b[90m─\u001b[39m\u001b[90m─\u001b[39m\u001b[90m─\u001b[39m\u001b[90m─\u001b[39m\u001b[90m─\u001b[39m\u001b[90m─\u001b[39m\u001b[90m─\u001b[39m\u001b[90m─\u001b[39m\u001b[90m─\u001b[39m\u001b[90m─\u001b[39m\u001b[90m─\u001b[39m\u001b[90m─\u001b[39m\u001b[90m─\u001b[39m\u001b[90m─\u001b[39m\u001b[90m─\u001b[39m\u001b[90m─\u001b[39m\u001b[90m─\u001b[39m\u001b[90m─\u001b[39m\u001b[90m─\u001b[39m\u001b[90m─\u001b[39m\u001b[90m─\u001b[39m\u001b[90m┘\u001b[39m\n",
      "\n",
      "\n",
      "\u001b[90m─\u001b[39m\u001b[90m─\u001b[39m\u001b[90m─\u001b[39m\u001b[90m─\u001b[39m\u001b[90m─\u001b[39m\u001b[90m─\u001b[39m\u001b[90m─\u001b[39m\u001b[90m─\u001b[39m\u001b[90m─\u001b[39m\u001b[90m─\u001b[39m\u001b[90m─\u001b[39m\u001b[90m─\u001b[39m\u001b[90m─\u001b[39m\u001b[90m─\u001b[39m\u001b[90m─\u001b[39m\u001b[90m─\u001b[39m\u001b[90m─\u001b[39m\u001b[90m─\u001b[39m\u001b[90m─\u001b[39m\u001b[90m─\u001b[39m\u001b[90m─\u001b[39m\u001b[90m─\u001b[39m\u001b[90m─\u001b[39m\u001b[90m─\u001b[39m\u001b[90m─\u001b[39m\u001b[90m─\u001b[39m\u001b[90m─\u001b[39m\u001b[90m─\u001b[39m\u001b[90m─\u001b[39m\u001b[90m─\u001b[39m\u001b[90m─\u001b[39m\u001b[90m─\u001b[39m\u001b[90m─\u001b[39m\u001b[90m─\u001b[39m\u001b[90m─\u001b[39m\u001b[90m─\u001b[39m\u001b[90m─\u001b[39m\u001b[90m─\u001b[39m\u001b[90m─\u001b[39m\u001b[90m─\u001b[39m\u001b[90m─\u001b[39m\u001b[90m─\u001b[39m\u001b[90m─\u001b[39m\u001b[90m─\u001b[39m\u001b[90m─\u001b[39m\u001b[90m─\u001b[39m\u001b[90m─\u001b[39m\u001b[90m─\u001b[39m\u001b[90m─\u001b[39m\u001b[90m─\u001b[39m\u001b[90m─\u001b[39m\u001b[90m─\u001b[39m\u001b[90m─\u001b[39m\u001b[90m─\u001b[39m\u001b[90m─\u001b[39m\u001b[90m─\u001b[39m\u001b[90m─\u001b[39m\u001b[90m─\u001b[39m\u001b[90m─\u001b[39m\u001b[90m─\u001b[39m\u001b[90m─\u001b[39m\u001b[90m─\u001b[39m\u001b[90m─\u001b[39m\u001b[90m─\u001b[39m\u001b[90m─\u001b[39m\u001b[90m─\u001b[39m\u001b[90m─\u001b[39m\u001b[90m─\u001b[39m\u001b[90m─\u001b[39m\u001b[90m─\u001b[39m\u001b[90m─\u001b[39m\u001b[90m─\u001b[39m\u001b[90m─\u001b[39m\u001b[90m─\u001b[39m\u001b[90m─\u001b[39m\u001b[90m─\u001b[39m\u001b[90m─\u001b[39m\u001b[90m─\u001b[39m\u001b[90m─\u001b[39m\u001b[90m─\u001b[39m\u001b[90m─\u001b[39m\u001b[90m─\u001b[39m\u001b[90m─\u001b[39m\u001b[90m─\u001b[39m\u001b[90m─\u001b[39m\u001b[90m─\u001b[39m\u001b[90m─\u001b[39m\u001b[90m─\u001b[39m\u001b[90m─\u001b[39m\u001b[90m─\u001b[39m\u001b[90m─\u001b[39m\u001b[90m─\u001b[39m\u001b[90m─\u001b[39m\u001b[90m─\u001b[39m\u001b[90m─\u001b[39m\u001b[90m─\u001b[39m\u001b[90m─\u001b[39m\u001b[90m─\u001b[39m\u001b[90m─\u001b[39m\u001b[90m─\u001b[39m\n",
      "                                                                                                    \n",
      "  Running:  \u001b[90mspec.cy.ts\u001b[39m                                                                      \u001b[90m(1 of 1)\u001b[39m\n",
      "\n",
      "\u001b[0m\u001b[0m\n",
      "\u001b[0m  My First Test\u001b[0m\n",
      "  \u001b[32m  ✓\u001b[0m\u001b[90m Visits the home page\u001b[0m\u001b[90m (1325ms)\u001b[0m\n",
      "\n",
      "\n",
      "\u001b[92m \u001b[0m\u001b[32m 1 passing\u001b[0m\u001b[90m (1s)\u001b[0m\n",
      "\n",
      "\n",
      "\u001b[32m  (\u001b[4m\u001b[1mResults\u001b[22m\u001b[24m)\u001b[39m\n",
      "\n",
      "\u001b[90m  ┌\u001b[39m\u001b[90m─\u001b[39m\u001b[90m─\u001b[39m\u001b[90m─\u001b[39m\u001b[90m─\u001b[39m\u001b[90m─\u001b[39m\u001b[90m─\u001b[39m\u001b[90m─\u001b[39m\u001b[90m─\u001b[39m\u001b[90m─\u001b[39m\u001b[90m─\u001b[39m\u001b[90m─\u001b[39m\u001b[90m─\u001b[39m\u001b[90m─\u001b[39m\u001b[90m─\u001b[39m\u001b[90m─\u001b[39m\u001b[90m─\u001b[39m\u001b[90m─\u001b[39m\u001b[90m─\u001b[39m\u001b[90m─\u001b[39m\u001b[90m─\u001b[39m\u001b[90m─\u001b[39m\u001b[90m─\u001b[39m\u001b[90m─\u001b[39m\u001b[90m─\u001b[39m\u001b[90m─\u001b[39m\u001b[90m─\u001b[39m\u001b[90m─\u001b[39m\u001b[90m─\u001b[39m\u001b[90m─\u001b[39m\u001b[90m─\u001b[39m\u001b[90m─\u001b[39m\u001b[90m─\u001b[39m\u001b[90m─\u001b[39m\u001b[90m─\u001b[39m\u001b[90m─\u001b[39m\u001b[90m─\u001b[39m\u001b[90m─\u001b[39m\u001b[90m─\u001b[39m\u001b[90m─\u001b[39m\u001b[90m─\u001b[39m\u001b[90m─\u001b[39m\u001b[90m─\u001b[39m\u001b[90m─\u001b[39m\u001b[90m─\u001b[39m\u001b[90m─\u001b[39m\u001b[90m─\u001b[39m\u001b[90m─\u001b[39m\u001b[90m─\u001b[39m\u001b[90m─\u001b[39m\u001b[90m─\u001b[39m\u001b[90m─\u001b[39m\u001b[90m─\u001b[39m\u001b[90m─\u001b[39m\u001b[90m─\u001b[39m\u001b[90m─\u001b[39m\u001b[90m─\u001b[39m\u001b[90m─\u001b[39m\u001b[90m─\u001b[39m\u001b[90m─\u001b[39m\u001b[90m─\u001b[39m\u001b[90m─\u001b[39m\u001b[90m─\u001b[39m\u001b[90m─\u001b[39m\u001b[90m─\u001b[39m\u001b[90m─\u001b[39m\u001b[90m─\u001b[39m\u001b[90m─\u001b[39m\u001b[90m─\u001b[39m\u001b[90m─\u001b[39m\u001b[90m─\u001b[39m\u001b[90m─\u001b[39m\u001b[90m─\u001b[39m\u001b[90m─\u001b[39m\u001b[90m─\u001b[39m\u001b[90m─\u001b[39m\u001b[90m─\u001b[39m\u001b[90m─\u001b[39m\u001b[90m─\u001b[39m\u001b[90m─\u001b[39m\u001b[90m─\u001b[39m\u001b[90m─\u001b[39m\u001b[90m─\u001b[39m\u001b[90m─\u001b[39m\u001b[90m─\u001b[39m\u001b[90m─\u001b[39m\u001b[90m─\u001b[39m\u001b[90m─\u001b[39m\u001b[90m─\u001b[39m\u001b[90m─\u001b[39m\u001b[90m─\u001b[39m\u001b[90m─\u001b[39m\u001b[90m─\u001b[39m\u001b[90m─\u001b[39m\u001b[90m─\u001b[39m\u001b[90m─\u001b[39m\u001b[90m─\u001b[39m\u001b[90m┐\u001b[39m\n",
      "\u001b[90m  │\u001b[39m \u001b[90mTests:\u001b[39m        \u001b[32m1\u001b[39m                                                                                \u001b[90m│\u001b[39m\n",
      "\u001b[90m  │\u001b[39m \u001b[90mPassing:\u001b[39m      \u001b[32m1\u001b[39m                                                                                \u001b[90m│\u001b[39m\n",
      "\u001b[90m  │\u001b[39m \u001b[90mFailing:\u001b[39m      \u001b[32m0\u001b[39m                                                                                \u001b[90m│\u001b[39m\n",
      "\u001b[90m  │\u001b[39m \u001b[90mPending:\u001b[39m      \u001b[32m0\u001b[39m                                                                                \u001b[90m│\u001b[39m\n",
      "\u001b[90m  │\u001b[39m \u001b[90mSkipped:\u001b[39m      \u001b[32m0\u001b[39m                                                                                \u001b[90m│\u001b[39m\n",
      "\u001b[90m  │\u001b[39m \u001b[90mScreenshots:\u001b[39m  \u001b[32m0\u001b[39m                                                                                \u001b[90m│\u001b[39m\n",
      "\u001b[90m  │\u001b[39m \u001b[90mVideo:\u001b[39m        \u001b[32mtrue\u001b[39m                                                                             \u001b[90m│\u001b[39m\n",
      "\u001b[90m  │\u001b[39m \u001b[90mDuration:\u001b[39m     \u001b[32m1 second\u001b[39m                                                                         \u001b[90m│\u001b[39m\n",
      "\u001b[90m  │\u001b[39m \u001b[90mSpec Ran:\u001b[39m     \u001b[32m\u001b[32mspec.cy.ts\u001b[32m\u001b[39m                                                                       \u001b[90m│\u001b[39m\n",
      "\u001b[90m  └\u001b[39m\u001b[90m─\u001b[39m\u001b[90m─\u001b[39m\u001b[90m─\u001b[39m\u001b[90m─\u001b[39m\u001b[90m─\u001b[39m\u001b[90m─\u001b[39m\u001b[90m─\u001b[39m\u001b[90m─\u001b[39m\u001b[90m─\u001b[39m\u001b[90m─\u001b[39m\u001b[90m─\u001b[39m\u001b[90m─\u001b[39m\u001b[90m─\u001b[39m\u001b[90m─\u001b[39m\u001b[90m─\u001b[39m\u001b[90m─\u001b[39m\u001b[90m─\u001b[39m\u001b[90m─\u001b[39m\u001b[90m─\u001b[39m\u001b[90m─\u001b[39m\u001b[90m─\u001b[39m\u001b[90m─\u001b[39m\u001b[90m─\u001b[39m\u001b[90m─\u001b[39m\u001b[90m─\u001b[39m\u001b[90m─\u001b[39m\u001b[90m─\u001b[39m\u001b[90m─\u001b[39m\u001b[90m─\u001b[39m\u001b[90m─\u001b[39m\u001b[90m─\u001b[39m\u001b[90m─\u001b[39m\u001b[90m─\u001b[39m\u001b[90m─\u001b[39m\u001b[90m─\u001b[39m\u001b[90m─\u001b[39m\u001b[90m─\u001b[39m\u001b[90m─\u001b[39m\u001b[90m─\u001b[39m\u001b[90m─\u001b[39m\u001b[90m─\u001b[39m\u001b[90m─\u001b[39m\u001b[90m─\u001b[39m\u001b[90m─\u001b[39m\u001b[90m─\u001b[39m\u001b[90m─\u001b[39m\u001b[90m─\u001b[39m\u001b[90m─\u001b[39m\u001b[90m─\u001b[39m\u001b[90m─\u001b[39m\u001b[90m─\u001b[39m\u001b[90m─\u001b[39m\u001b[90m─\u001b[39m\u001b[90m─\u001b[39m\u001b[90m─\u001b[39m\u001b[90m─\u001b[39m\u001b[90m─\u001b[39m\u001b[90m─\u001b[39m\u001b[90m─\u001b[39m\u001b[90m─\u001b[39m\u001b[90m─\u001b[39m\u001b[90m─\u001b[39m\u001b[90m─\u001b[39m\u001b[90m─\u001b[39m\u001b[90m─\u001b[39m\u001b[90m─\u001b[39m\u001b[90m─\u001b[39m\u001b[90m─\u001b[39m\u001b[90m─\u001b[39m\u001b[90m─\u001b[39m\u001b[90m─\u001b[39m\u001b[90m─\u001b[39m\u001b[90m─\u001b[39m\u001b[90m─\u001b[39m\u001b[90m─\u001b[39m\u001b[90m─\u001b[39m\u001b[90m─\u001b[39m\u001b[90m─\u001b[39m\u001b[90m─\u001b[39m\u001b[90m─\u001b[39m\u001b[90m─\u001b[39m\u001b[90m─\u001b[39m\u001b[90m─\u001b[39m\u001b[90m─\u001b[39m\u001b[90m─\u001b[39m\u001b[90m─\u001b[39m\u001b[90m─\u001b[39m\u001b[90m─\u001b[39m\u001b[90m─\u001b[39m\u001b[90m─\u001b[39m\u001b[90m─\u001b[39m\u001b[90m─\u001b[39m\u001b[90m─\u001b[39m\u001b[90m─\u001b[39m\u001b[90m─\u001b[39m\u001b[90m─\u001b[39m\u001b[90m┘\u001b[39m\n",
      "\n",
      "\n",
      "\u001b[36m  (\u001b[4m\u001b[1mVideo\u001b[22m\u001b[24m)\u001b[39m\n",
      "\n",
      "\u001b[90m \u001b[39m \u001b[90m-\u001b[39m  \u001b[90mStarted processing:\u001b[39m  \u001b[36mCompressing to 32 CRF\u001b[39m                                                     \n",
      "\u001b[90m \u001b[39m \u001b[90m-\u001b[39m  \u001b[90mFinished processing:\u001b[39m \u001b[90m0 seconds\u001b[39m                                                  \n",
      "\n",
      "  -  Video output: \u001b[36m/usr/src/app/cypress/videos/spec.cy.ts.mp4\u001b[39m\n",
      "\n",
      "\n",
      "\u001b[90m====================================================================================================\u001b[39m\n",
      "\n",
      "\u001b[0m  (\u001b[4m\u001b[1mRun Finished\u001b[22m\u001b[24m)\u001b[0m\n",
      "\n",
      "\n",
      "\u001b[90m   \u001b[39m    \u001b[90mSpec\u001b[39m                                              \u001b[90mTests\u001b[39m  \u001b[90mPassing\u001b[39m  \u001b[90mFailing\u001b[39m  \u001b[90mPending\u001b[39m  \u001b[90mSkipped\u001b[39m \u001b[90m \u001b[39m\n",
      "\u001b[90m  ┌\u001b[39m\u001b[90m─\u001b[39m\u001b[90m─\u001b[39m\u001b[90m─\u001b[39m\u001b[90m─\u001b[39m\u001b[90m─\u001b[39m\u001b[90m─\u001b[39m\u001b[90m─\u001b[39m\u001b[90m─\u001b[39m\u001b[90m─\u001b[39m\u001b[90m─\u001b[39m\u001b[90m─\u001b[39m\u001b[90m─\u001b[39m\u001b[90m─\u001b[39m\u001b[90m─\u001b[39m\u001b[90m─\u001b[39m\u001b[90m─\u001b[39m\u001b[90m─\u001b[39m\u001b[90m─\u001b[39m\u001b[90m─\u001b[39m\u001b[90m─\u001b[39m\u001b[90m─\u001b[39m\u001b[90m─\u001b[39m\u001b[90m─\u001b[39m\u001b[90m─\u001b[39m\u001b[90m─\u001b[39m\u001b[90m─\u001b[39m\u001b[90m─\u001b[39m\u001b[90m─\u001b[39m\u001b[90m─\u001b[39m\u001b[90m─\u001b[39m\u001b[90m─\u001b[39m\u001b[90m─\u001b[39m\u001b[90m─\u001b[39m\u001b[90m─\u001b[39m\u001b[90m─\u001b[39m\u001b[90m─\u001b[39m\u001b[90m─\u001b[39m\u001b[90m─\u001b[39m\u001b[90m─\u001b[39m\u001b[90m─\u001b[39m\u001b[90m─\u001b[39m\u001b[90m─\u001b[39m\u001b[90m─\u001b[39m\u001b[90m─\u001b[39m\u001b[90m─\u001b[39m\u001b[90m─\u001b[39m\u001b[90m─\u001b[39m\u001b[90m─\u001b[39m\u001b[90m─\u001b[39m\u001b[90m─\u001b[39m\u001b[90m─\u001b[39m\u001b[90m─\u001b[39m\u001b[90m─\u001b[39m\u001b[90m─\u001b[39m\u001b[90m─\u001b[39m\u001b[90m─\u001b[39m\u001b[90m─\u001b[39m\u001b[90m─\u001b[39m\u001b[90m─\u001b[39m\u001b[90m─\u001b[39m\u001b[90m─\u001b[39m\u001b[90m─\u001b[39m\u001b[90m─\u001b[39m\u001b[90m─\u001b[39m\u001b[90m─\u001b[39m\u001b[90m─\u001b[39m\u001b[90m─\u001b[39m\u001b[90m─\u001b[39m\u001b[90m─\u001b[39m\u001b[90m─\u001b[39m\u001b[90m─\u001b[39m\u001b[90m─\u001b[39m\u001b[90m─\u001b[39m\u001b[90m─\u001b[39m\u001b[90m─\u001b[39m\u001b[90m─\u001b[39m\u001b[90m─\u001b[39m\u001b[90m─\u001b[39m\u001b[90m─\u001b[39m\u001b[90m─\u001b[39m\u001b[90m─\u001b[39m\u001b[90m─\u001b[39m\u001b[90m─\u001b[39m\u001b[90m─\u001b[39m\u001b[90m─\u001b[39m\u001b[90m─\u001b[39m\u001b[90m─\u001b[39m\u001b[90m─\u001b[39m\u001b[90m─\u001b[39m\u001b[90m─\u001b[39m\u001b[90m─\u001b[39m\u001b[90m─\u001b[39m\u001b[90m─\u001b[39m\u001b[90m─\u001b[39m\u001b[90m─\u001b[39m\u001b[90m─\u001b[39m\u001b[90m┐\u001b[39m\n",
      "\u001b[90m  │\u001b[39m \u001b[32m✔\u001b[39m  \u001b[0mspec.cy.ts\u001b[0m                               \u001b[90m00:01\u001b[39m        \u001b[0m1\u001b[0m        \u001b[32m1\u001b[39m        \u001b[90m-\u001b[39m        \u001b[90m-\u001b[39m        \u001b[90m-\u001b[39m \u001b[90m│\u001b[39m\n",
      "\u001b[90m  └\u001b[39m\u001b[90m─\u001b[39m\u001b[90m─\u001b[39m\u001b[90m─\u001b[39m\u001b[90m─\u001b[39m\u001b[90m─\u001b[39m\u001b[90m─\u001b[39m\u001b[90m─\u001b[39m\u001b[90m─\u001b[39m\u001b[90m─\u001b[39m\u001b[90m─\u001b[39m\u001b[90m─\u001b[39m\u001b[90m─\u001b[39m\u001b[90m─\u001b[39m\u001b[90m─\u001b[39m\u001b[90m─\u001b[39m\u001b[90m─\u001b[39m\u001b[90m─\u001b[39m\u001b[90m─\u001b[39m\u001b[90m─\u001b[39m\u001b[90m─\u001b[39m\u001b[90m─\u001b[39m\u001b[90m─\u001b[39m\u001b[90m─\u001b[39m\u001b[90m─\u001b[39m\u001b[90m─\u001b[39m\u001b[90m─\u001b[39m\u001b[90m─\u001b[39m\u001b[90m─\u001b[39m\u001b[90m─\u001b[39m\u001b[90m─\u001b[39m\u001b[90m─\u001b[39m\u001b[90m─\u001b[39m\u001b[90m─\u001b[39m\u001b[90m─\u001b[39m\u001b[90m─\u001b[39m\u001b[90m─\u001b[39m\u001b[90m─\u001b[39m\u001b[90m─\u001b[39m\u001b[90m─\u001b[39m\u001b[90m─\u001b[39m\u001b[90m─\u001b[39m\u001b[90m─\u001b[39m\u001b[90m─\u001b[39m\u001b[90m─\u001b[39m\u001b[90m─\u001b[39m\u001b[90m─\u001b[39m\u001b[90m─\u001b[39m\u001b[90m─\u001b[39m\u001b[90m─\u001b[39m\u001b[90m─\u001b[39m\u001b[90m─\u001b[39m\u001b[90m─\u001b[39m\u001b[90m─\u001b[39m\u001b[90m─\u001b[39m\u001b[90m─\u001b[39m\u001b[90m─\u001b[39m\u001b[90m─\u001b[39m\u001b[90m─\u001b[39m\u001b[90m─\u001b[39m\u001b[90m─\u001b[39m\u001b[90m─\u001b[39m\u001b[90m─\u001b[39m\u001b[90m─\u001b[39m\u001b[90m─\u001b[39m\u001b[90m─\u001b[39m\u001b[90m─\u001b[39m\u001b[90m─\u001b[39m\u001b[90m─\u001b[39m\u001b[90m─\u001b[39m\u001b[90m─\u001b[39m\u001b[90m─\u001b[39m\u001b[90m─\u001b[39m\u001b[90m─\u001b[39m\u001b[90m─\u001b[39m\u001b[90m─\u001b[39m\u001b[90m─\u001b[39m\u001b[90m─\u001b[39m\u001b[90m─\u001b[39m\u001b[90m─\u001b[39m\u001b[90m─\u001b[39m\u001b[90m─\u001b[39m\u001b[90m─\u001b[39m\u001b[90m─\u001b[39m\u001b[90m─\u001b[39m\u001b[90m─\u001b[39m\u001b[90m─\u001b[39m\u001b[90m─\u001b[39m\u001b[90m─\u001b[39m\u001b[90m─\u001b[39m\u001b[90m─\u001b[39m\u001b[90m─\u001b[39m\u001b[90m─\u001b[39m\u001b[90m─\u001b[39m\u001b[90m─\u001b[39m\u001b[90m─\u001b[39m\u001b[90m─\u001b[39m\u001b[90m┘\u001b[39m\n",
      "\u001b[90m   \u001b[39m \u001b[32m✔\u001b[39m  \u001b[32mAll specs passed!\u001b[39m                        \u001b[90m00:01\u001b[39m        \u001b[0m1\u001b[0m        \u001b[32m1\u001b[39m        \u001b[90m-\u001b[39m        \u001b[90m-\u001b[39m        \u001b[90m-\u001b[39m \u001b[90m \u001b[39m\n",
      "\n",
      "Done in 216.53s.\n"
     ]
    },
    {
     "name": "stderr",
     "output_type": "stream",
     "text": [
      "- Generating browser application bundles (phase: setup)...\n",
      "    TypeScript compiler options \"target\" and \"useDefineForClassFields\" are set to \"ES2022\" and \"false\" respectively by the Angular CLI. To control ECMA version and features use the Browerslist configuration. For more information, see https://angular.io/guide/build#configuring-browser-compatibility\n",
      "✔ Browser application bundle generation complete.\n",
      "\n",
      "Warning: /usr/src/app/node_modules/@ionic/storage/dist/esm/index.js depends on 'localforage'. CommonJS or AMD dependencies can cause optimization bailouts.\n",
      "For more info see: https://angular.io/guide/build#configuring-commonjs-dependencies\n",
      "\n",
      "Warning: /usr/src/app/src/app/home/home.page.ts depends on 'project-name-generator'. CommonJS or AMD dependencies can cause optimization bailouts.\n",
      "For more info see: https://angular.io/guide/build#configuring-commonjs-dependencies\n",
      "\n",
      "\n",
      "libva error: vaGetDriverNameByIndex() failed with unknown libva error, driver_name = (null)\n",
      "[510:0205/065633.978324:ERROR:gpu_memory_buffer_support_x11.cc(44)] dri3 extension not supported.\n",
      "✔ Browser application bundle generation complete.\n"
     ]
    }
   ],
   "source": [
    "run_containerized_cypress_task(\"check-e2e\")"
   ]
  },
  {
   "attachments": {},
   "cell_type": "markdown",
   "metadata": {},
   "source": [
    "## Install\n",
    "\n",
    "Now, we will install the project."
   ]
  },
  {
   "cell_type": "code",
   "execution_count": 63,
   "metadata": {},
   "outputs": [
    {
     "name": "stdout",
     "output_type": "stream",
     "text": [
      "yarn run v1.22.19\n",
      "$ ng build --configuration=production\n",
      "\n",
      "Initial Chunk Files                   | Names                     |   Raw Size | Estimated Transfer Size\n",
      "main.3b731bbf32c5f53c.js              | main                      |  484.60 kB |               127.48 kB\n",
      "styles.08c08b3f8861a443.css           | styles                    |  112.13 kB |                11.96 kB\n",
      "polyfills.a264a537d11028cf.js         | polyfills                 |   33.08 kB |                10.64 kB\n",
      "runtime.b770ca7c43cdd92e.js           | runtime                   |    4.59 kB |                 2.21 kB\n",
      "\n",
      "| Initial Total             |  634.40 kB |               152.29 kB\n",
      "\n",
      "Lazy Chunk Files                      | Names                     |   Raw Size | Estimated Transfer Size\n",
      "7701.2cdb6e1b152a4a37.js              | home-home-module          |  132.27 kB |                40.00 kB\n",
      "2698.acad13668ed58850.js              | swiper-bundle-28080340-js |   97.15 kB |                23.40 kB\n",
      "polyfills-core-js.c8961a92c3ed4c69.js | polyfills-core-js         |   91.79 kB |                27.84 kB\n",
      "4711.91cec22f2ba5f3c7.js              | -                         |   81.56 kB |                 8.43 kB\n",
      "4959.3106d14d578edbe7.js              | -                         |   67.92 kB |                11.66 kB\n",
      "1650.e948752cd9d6812b.js              | -                         |   48.23 kB |                 4.64 kB\n",
      "3236.8945f8dc8eac1ae6.js              | -                         |   43.24 kB |                 9.37 kB\n",
      "1118.c738fa83e321ec68.js              | -                         |   34.14 kB |                 5.58 kB\n",
      "9325.8790c96ee1241e7e.js              | -                         |   28.40 kB |                 4.89 kB\n",
      "2349.1cca212cf65570cf.js              | -                         |   28.16 kB |                 6.88 kB\n",
      "5652.f990f77912e390d6.js              | -                         |   25.35 kB |                 4.92 kB\n",
      "8628.09b3dbe740ef2935.js              | -                         |   24.19 kB |                 3.80 kB\n",
      "2175.cdeb21736e303c07.js              | -                         |   23.29 kB |                 4.58 kB\n",
      "3804.cb3a3ccdb61c76c2.js              | -                         |   22.56 kB |                 5.68 kB\n",
      "1709.82ab0a237c96872b.js              | -                         |   22.15 kB |                 4.59 kB\n",
      "5836.ded733615b1d7f77.js              | -                         |   21.69 kB |                 3.41 kB\n",
      "3648.f3600a9402e35719.js              | -                         |   21.46 kB |                 3.57 kB\n",
      "4651.4f8144fea4cee578.js              | -                         |   21.44 kB |                 3.75 kB\n",
      "8136.26eeb7d47781988e.js              | -                         |   20.40 kB |                 4.64 kB\n",
      "438.1864b9bad23ae7a9.js               | -                         |   20.34 kB |                 3.11 kB\n",
      "4174.42c793ab019c64ec.js              | -                         |   19.08 kB |                 1.86 kB\n",
      "polyfills-dom.5c5f23fb57b03028.js     | polyfills-dom             |   18.05 kB |                 5.04 kB\n",
      "common.8d6b2a9a5193dcf9.js            | common                    |   16.45 kB |                 4.68 kB\n",
      "2773.352a667fd8f79e54.js              | -                         |   16.27 kB |                 4.22 kB\n",
      "1217.c1dee2e321c3aac3.js              | -                         |   15.69 kB |                 2.85 kB\n",
      "5168.6b0f53fc849bbd6d.js              | -                         |   15.28 kB |                 2.95 kB\n",
      "7544.0e2a10933d6bcf40.js              | -                         |   15.03 kB |                 2.73 kB\n",
      "6120.88e71831a9219f45.js              | -                         |   14.74 kB |                 3.04 kB\n",
      "6560.44749c7b0cfa226a.js              | -                         |   14.54 kB |                 2.51 kB\n",
      "2073.e26c37d6a2e80e60.js              | -                         |   13.53 kB |                 2.32 kB\n",
      "1435.73fb6b0af03a3945.js              | -                         |   12.09 kB |                 4.06 kB\n",
      "388.135ecc6972e0969e.js               | -                         |   11.57 kB |                 2.09 kB\n",
      "9654.e8e8171352333258.js              | -                         |   11.31 kB |                 2.58 kB\n",
      "5349.21afa864049ddfd6.js              | -                         |   11.30 kB |                 3.59 kB\n",
      "9824.c512b904cf4c8833.js              | -                         |   11.15 kB |                 1.37 kB\n",
      "4330.a129c8022f8486ce.js              | -                         |   11.11 kB |                 3.79 kB\n",
      "4432.af03feb5146988e0.js              | -                         |   10.62 kB |                 2.54 kB\n",
      "9016.c5274acf0968a2f2.js              | -                         |    9.40 kB |                 2.05 kB\n",
      "9434.8d5eaf2682740965.js              | -                         |    8.65 kB |                 2.05 kB\n",
      "9922.4c733bc1f25fd71f.js              | -                         |    8.43 kB |                 1.96 kB\n",
      "2289.93122c121e1e7c62.js              | -                         |    7.54 kB |                 2.65 kB\n",
      "7602.7bde4e7cf41266d1.js              | -                         |    7.27 kB |                 2.06 kB\n",
      "9230.fb414aad38f2598b.js              | -                         |    6.52 kB |                 1.80 kB\n",
      "9536.21bf1f298f3494ec.js              | -                         |    6.36 kB |                 1.28 kB\n",
      "5817.fab2f0c037a74769.js              | -                         |    5.99 kB |                 1.42 kB\n",
      "4908.f89952d2624e789e.js              | -                         |    5.96 kB |                 1.50 kB\n",
      "1186.6b4ef9dc7f19c9ad.js              | -                         |    5.49 kB |                 1.92 kB\n",
      "657.c73c17b6cbd19564.js               | -                         |    5.05 kB |                 1.25 kB\n",
      "3446.ec8c03755f825019.js              | input-shims-f2e11980-js   |    4.57 kB |                 1.78 kB\n",
      "4753.9717825f601b0d41.js              | -                         |    4.16 kB |              1008 bytes\n",
      "1536.b2f069ab89df5283.js              | -                         |    3.76 kB |                 1.27 kB\n",
      "9958.0dbfb4a273fcb0c7.js              | -                         |    3.05 kB |               939 bytes\n",
      "2531.2654ccaae225543c.js              | index-2dbe065f-js         |    1.83 kB |               817 bytes\n",
      "1033.0d4c404c719a46a0.js              | -                         |    1.64 kB |               666 bytes\n",
      "8939.4734c10cd219622c.js              | -                         |    1.50 kB |               517 bytes\n",
      "4376.d677b059783c57f0.js              | -                         | 1000 bytes |               543 bytes\n",
      "5227.4cd513f6de4a322e.js              | status-tap-4d4674a1-js    |  530 bytes |               321 bytes\n",
      "\n",
      "Build at: 2023-02-05T06:58:52.114Z - Hash: 16cb1db05979d07a - Time: 34428ms\n",
      "Done in 114.89s.\n"
     ]
    },
    {
     "name": "stderr",
     "output_type": "stream",
     "text": [
      "- Generating browser application bundles (phase: setup)...\n",
      "    TypeScript compiler options \"target\" and \"useDefineForClassFields\" are set to \"ES2022\" and \"false\" respectively by the Angular CLI. To control ECMA version and features use the Browerslist configuration. For more information, see https://angular.io/guide/build#configuring-browser-compatibility\n",
      "✔ Browser application bundle generation complete.\n",
      "✔ Browser application bundle generation complete.\n",
      "- Copying assets...\n",
      "✔ Copying assets complete.\n",
      "- Generating index html...\n",
      "- Generating index html...\n",
      "10 rules skipped due to selector errors:\n",
      "  :host-context([dir=rtl]) .ion-float-start -> subselects_1.subselects[name] is not a function\n",
      "  :host-context([dir=rtl]) .ion-float-end -> subselects_1.subselects[name] is not a function\n",
      "  :host-context([dir=rtl]) .ion-float-sm-start -> subselects_1.subselects[name] is not a function\n",
      "  :host-context([dir=rtl]) .ion-float-sm-end -> subselects_1.subselects[name] is not a function\n",
      "  :host-context([dir=rtl]) .ion-float-md-start -> subselects_1.subselects[name] is not a function\n",
      "  :host-context([dir=rtl]) .ion-float-md-end -> subselects_1.subselects[name] is not a function\n",
      "  :host-context([dir=rtl]) .ion-float-lg-start -> subselects_1.subselects[name] is not a function\n",
      "  :host-context([dir=rtl]) .ion-float-lg-end -> subselects_1.subselects[name] is not a function\n",
      "  :host-context([dir=rtl]) .ion-float-xl-start -> subselects_1.subselects[name] is not a function\n",
      "  :host-context([dir=rtl]) .ion-float-xl-end -> subselects_1.subselects[name] is not a function\n",
      "✔ Index html generation complete.\n",
      "- Generating service worker...\n",
      "✔ Service worker generation complete.\n",
      "\n",
      "Warning: /usr/src/app/node_modules/@ionic/storage/dist/esm/index.js depends on 'localforage'. CommonJS or AMD dependencies can cause optimization bailouts.\n",
      "For more info see: https://angular.io/guide/build#configuring-commonjs-dependencies\n",
      "\n",
      "Warning: /usr/src/app/src/app/home/home.page.ts depends on 'project-name-generator'. CommonJS or AMD dependencies can cause optimization bailouts.\n",
      "For more info see: https://angular.io/guide/build#configuring-commonjs-dependencies\n",
      "\n",
      "\n"
     ]
    }
   ],
   "source": [
    "run_containerized_node_task(\"install\")"
   ]
  }
 ],
 "metadata": {
  "kernelspec": {
   "display_name": "Python 3",
   "language": "python",
   "name": "python3"
  },
  "language_info": {
   "codemirror_mode": {
    "name": "ipython",
    "version": 3
   },
   "file_extension": ".py",
   "mimetype": "text/x-python",
   "name": "python",
   "nbconvert_exporter": "python",
   "pygments_lexer": "ipython3",
   "version": "3.10.9"
  },
  "orig_nbformat": 4,
  "vscode": {
   "interpreter": {
    "hash": "015e477da495680b7764f48559e21af8132df1531fbc63fbd05862804c80da99"
   }
  }
 },
 "nbformat": 4,
 "nbformat_minor": 2
}
